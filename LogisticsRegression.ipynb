{
 "cells": [
  {
   "cell_type": "code",
   "execution_count": 6,
   "metadata": {},
   "outputs": [
    {
     "name": "stdout",
     "output_type": "stream",
     "text": [
      "              Age  Number of sexual partners  First sexual intercourse  \\\n",
      "count  858.000000                 832.000000                851.000000   \n",
      "mean    26.820513                   2.527644                 16.995300   \n",
      "std      8.497948                   1.667760                  2.803355   \n",
      "min     13.000000                   1.000000                 10.000000   \n",
      "25%     20.000000                   2.000000                 15.000000   \n",
      "50%     25.000000                   2.000000                 17.000000   \n",
      "75%     32.000000                   3.000000                 18.000000   \n",
      "max     84.000000                  28.000000                 32.000000   \n",
      "\n",
      "       Num of pregNaNcies      Smokes  Smokes (years)  Smokes (packs/year)  \\\n",
      "count          802.000000  845.000000      845.000000           845.000000   \n",
      "mean             2.275561    0.145562        1.219721             0.453144   \n",
      "std              1.447414    0.352876        4.089017             2.226610   \n",
      "min              0.000000    0.000000        0.000000             0.000000   \n",
      "25%              1.000000    0.000000        0.000000             0.000000   \n",
      "50%              2.000000    0.000000        0.000000             0.000000   \n",
      "75%              3.000000    0.000000        0.000000             0.000000   \n",
      "max             11.000000    1.000000       37.000000            37.000000   \n",
      "\n",
      "       Hormonal Contraceptives  Hormonal Contraceptives (years)         IUD  \\\n",
      "count               750.000000                       750.000000  741.000000   \n",
      "mean                  0.641333                         2.256419    0.112011   \n",
      "std                   0.479929                         3.764254    0.315593   \n",
      "min                   0.000000                         0.000000    0.000000   \n",
      "25%                   0.000000                         0.000000    0.000000   \n",
      "50%                   1.000000                         0.500000    0.000000   \n",
      "75%                   1.000000                         3.000000    0.000000   \n",
      "max                   1.000000                        30.000000    1.000000   \n",
      "\n",
      "          ...      STDs: Time since first diagnosis  \\\n",
      "count     ...                             71.000000   \n",
      "mean      ...                              6.140845   \n",
      "std       ...                              5.895024   \n",
      "min       ...                              1.000000   \n",
      "25%       ...                              2.000000   \n",
      "50%       ...                              4.000000   \n",
      "75%       ...                              8.000000   \n",
      "max       ...                             22.000000   \n",
      "\n",
      "       STDs: Time since last diagnosis   Dx:Cancer      Dx:CIN      Dx:HPV  \\\n",
      "count                        71.000000  858.000000  858.000000  858.000000   \n",
      "mean                          5.816901    0.020979    0.010490    0.020979   \n",
      "std                           5.755271    0.143398    0.101939    0.143398   \n",
      "min                           1.000000    0.000000    0.000000    0.000000   \n",
      "25%                           2.000000    0.000000    0.000000    0.000000   \n",
      "50%                           3.000000    0.000000    0.000000    0.000000   \n",
      "75%                           7.500000    0.000000    0.000000    0.000000   \n",
      "max                          22.000000    1.000000    1.000000    1.000000   \n",
      "\n",
      "               Dx  Hinselmann    Schiller    Citology      Biopsy  \n",
      "count  858.000000  858.000000  858.000000  858.000000  858.000000  \n",
      "mean     0.027972    0.040793    0.086247    0.051282    0.064103  \n",
      "std      0.164989    0.197925    0.280892    0.220701    0.245078  \n",
      "min      0.000000    0.000000    0.000000    0.000000    0.000000  \n",
      "25%      0.000000    0.000000    0.000000    0.000000    0.000000  \n",
      "50%      0.000000    0.000000    0.000000    0.000000    0.000000  \n",
      "75%      0.000000    0.000000    0.000000    0.000000    0.000000  \n",
      "max      1.000000    1.000000    1.000000    1.000000    1.000000  \n",
      "\n",
      "[8 rows x 36 columns]\n",
      "       Age  Number of sexual partners  First sexual intercourse  \\\n",
      "0    False                      False                     False   \n",
      "1    False                      False                     False   \n",
      "2    False                      False                      True   \n",
      "3    False                      False                     False   \n",
      "4    False                      False                     False   \n",
      "5    False                      False                     False   \n",
      "6    False                      False                     False   \n",
      "7    False                      False                     False   \n",
      "8    False                      False                     False   \n",
      "9    False                      False                     False   \n",
      "10   False                      False                     False   \n",
      "11   False                      False                     False   \n",
      "12   False                      False                     False   \n",
      "13   False                      False                     False   \n",
      "14   False                      False                     False   \n",
      "15   False                      False                     False   \n",
      "16   False                      False                     False   \n",
      "17   False                      False                     False   \n",
      "18   False                      False                     False   \n",
      "19   False                      False                     False   \n",
      "20   False                      False                     False   \n",
      "21   False                      False                     False   \n",
      "22   False                      False                     False   \n",
      "23   False                      False                     False   \n",
      "24   False                      False                     False   \n",
      "25   False                      False                     False   \n",
      "26   False                      False                     False   \n",
      "27   False                      False                     False   \n",
      "28   False                      False                     False   \n",
      "29   False                      False                     False   \n",
      "..     ...                        ...                       ...   \n",
      "828  False                      False                     False   \n",
      "829  False                      False                     False   \n",
      "830  False                      False                     False   \n",
      "831  False                      False                     False   \n",
      "832  False                      False                     False   \n",
      "833  False                      False                      True   \n",
      "834  False                      False                     False   \n",
      "835  False                      False                     False   \n",
      "836  False                      False                      True   \n",
      "837  False                      False                      True   \n",
      "838  False                      False                     False   \n",
      "839  False                      False                     False   \n",
      "840  False                      False                     False   \n",
      "841  False                      False                     False   \n",
      "842  False                      False                     False   \n",
      "843  False                      False                     False   \n",
      "844  False                      False                     False   \n",
      "845  False                      False                     False   \n",
      "846  False                      False                     False   \n",
      "847  False                      False                     False   \n",
      "848  False                      False                     False   \n",
      "849  False                      False                     False   \n",
      "850  False                      False                     False   \n",
      "851  False                      False                     False   \n",
      "852  False                      False                     False   \n",
      "853  False                      False                     False   \n",
      "854  False                      False                     False   \n",
      "855  False                      False                     False   \n",
      "856  False                      False                     False   \n",
      "857  False                      False                     False   \n",
      "\n",
      "     Num of pregNaNcies  Smokes  Smokes (years)  Smokes (packs/year)  \\\n",
      "0                 False   False           False                False   \n",
      "1                 False   False           False                False   \n",
      "2                 False   False           False                False   \n",
      "3                 False   False           False                False   \n",
      "4                 False   False           False                False   \n",
      "5                 False   False           False                False   \n",
      "6                 False   False           False                False   \n",
      "7                 False   False           False                False   \n",
      "8                 False   False           False                False   \n",
      "9                  True   False           False                False   \n",
      "10                False   False           False                False   \n",
      "11                False   False           False                False   \n",
      "12                False   False           False                False   \n",
      "13                False   False           False                False   \n",
      "14                False   False           False                False   \n",
      "15                False   False           False                False   \n",
      "16                False   False           False                False   \n",
      "17                False   False           False                False   \n",
      "18                 True   False           False                False   \n",
      "19                 True   False           False                False   \n",
      "20                False   False           False                False   \n",
      "21                False   False           False                False   \n",
      "22                False   False           False                False   \n",
      "23                False   False           False                False   \n",
      "24                False   False           False                False   \n",
      "25                False   False           False                False   \n",
      "26                False   False           False                False   \n",
      "27                False   False           False                False   \n",
      "28                False   False           False                False   \n",
      "29                False   False           False                False   \n",
      "..                  ...     ...             ...                  ...   \n",
      "828               False   False           False                False   \n",
      "829               False   False           False                False   \n",
      "830               False   False           False                False   \n",
      "831               False   False           False                False   \n",
      "832               False   False           False                False   \n",
      "833               False   False           False                False   \n",
      "834               False   False           False                False   \n",
      "835               False   False           False                False   \n",
      "836               False   False           False                False   \n",
      "837               False   False           False                False   \n",
      "838               False   False           False                False   \n",
      "839               False   False           False                False   \n",
      "840               False   False           False                False   \n",
      "841               False   False           False                False   \n",
      "842               False   False           False                False   \n",
      "843               False   False           False                False   \n",
      "844               False   False           False                False   \n",
      "845               False   False           False                False   \n",
      "846               False   False           False                False   \n",
      "847               False   False           False                False   \n",
      "848               False   False           False                False   \n",
      "849               False   False           False                False   \n",
      "850               False   False           False                False   \n",
      "851               False   False           False                False   \n",
      "852               False   False           False                False   \n",
      "853               False   False           False                False   \n",
      "854               False   False           False                False   \n",
      "855               False   False           False                False   \n",
      "856               False   False           False                False   \n",
      "857               False   False           False                False   \n",
      "\n",
      "     Hormonal Contraceptives  Hormonal Contraceptives (years)    IUD   ...    \\\n",
      "0                      False                            False  False   ...     \n",
      "1                      False                            False  False   ...     \n",
      "2                      False                            False  False   ...     \n",
      "3                      False                            False  False   ...     \n",
      "4                      False                            False  False   ...     \n",
      "5                      False                            False  False   ...     \n",
      "6                      False                            False  False   ...     \n",
      "7                      False                            False  False   ...     \n",
      "8                      False                            False  False   ...     \n",
      "9                      False                            False   True   ...     \n",
      "10                     False                            False  False   ...     \n",
      "11                     False                            False  False   ...     \n",
      "12                     False                            False  False   ...     \n",
      "13                     False                            False  False   ...     \n",
      "14                     False                            False  False   ...     \n",
      "15                     False                            False  False   ...     \n",
      "16                     False                            False  False   ...     \n",
      "17                     False                            False  False   ...     \n",
      "18                     False                            False  False   ...     \n",
      "19                     False                            False  False   ...     \n",
      "20                     False                            False  False   ...     \n",
      "21                     False                            False  False   ...     \n",
      "22                     False                            False  False   ...     \n",
      "23                     False                            False  False   ...     \n",
      "24                     False                            False  False   ...     \n",
      "25                     False                            False  False   ...     \n",
      "26                     False                            False  False   ...     \n",
      "27                     False                            False  False   ...     \n",
      "28                     False                            False  False   ...     \n",
      "29                     False                            False  False   ...     \n",
      "..                       ...                              ...    ...   ...     \n",
      "828                    False                            False  False   ...     \n",
      "829                    False                            False  False   ...     \n",
      "830                    False                            False  False   ...     \n",
      "831                    False                            False  False   ...     \n",
      "832                    False                            False  False   ...     \n",
      "833                    False                            False  False   ...     \n",
      "834                    False                            False  False   ...     \n",
      "835                    False                            False  False   ...     \n",
      "836                    False                            False  False   ...     \n",
      "837                    False                            False  False   ...     \n",
      "838                    False                            False  False   ...     \n",
      "839                    False                            False  False   ...     \n",
      "840                    False                            False  False   ...     \n",
      "841                    False                            False  False   ...     \n",
      "842                    False                            False  False   ...     \n",
      "843                    False                            False  False   ...     \n",
      "844                    False                            False  False   ...     \n",
      "845                    False                            False  False   ...     \n",
      "846                    False                            False  False   ...     \n",
      "847                    False                            False  False   ...     \n",
      "848                    False                            False  False   ...     \n",
      "849                    False                            False  False   ...     \n",
      "850                    False                            False  False   ...     \n",
      "851                    False                            False  False   ...     \n",
      "852                    False                            False  False   ...     \n",
      "853                    False                            False  False   ...     \n",
      "854                    False                            False  False   ...     \n",
      "855                    False                            False  False   ...     \n",
      "856                    False                            False  False   ...     \n",
      "857                    False                            False  False   ...     \n",
      "\n",
      "     STDs: Time since first diagnosis  STDs: Time since last diagnosis  \\\n",
      "0                                True                             True   \n",
      "1                                True                             True   \n",
      "2                                True                             True   \n",
      "3                                True                             True   \n",
      "4                                True                             True   \n",
      "5                                True                             True   \n",
      "6                                True                             True   \n",
      "7                                True                             True   \n",
      "8                                True                             True   \n",
      "9                                True                             True   \n",
      "10                               True                             True   \n",
      "11                               True                             True   \n",
      "12                               True                             True   \n",
      "13                               True                             True   \n",
      "14                               True                             True   \n",
      "15                               True                             True   \n",
      "16                               True                             True   \n",
      "17                               True                             True   \n",
      "18                               True                             True   \n",
      "19                               True                             True   \n",
      "20                               True                             True   \n",
      "21                              False                            False   \n",
      "22                              False                            False   \n",
      "23                               True                             True   \n",
      "24                               True                             True   \n",
      "25                               True                             True   \n",
      "26                               True                             True   \n",
      "27                               True                             True   \n",
      "28                               True                             True   \n",
      "29                               True                             True   \n",
      "..                                ...                              ...   \n",
      "828                              True                             True   \n",
      "829                              True                             True   \n",
      "830                              True                             True   \n",
      "831                             False                            False   \n",
      "832                              True                             True   \n",
      "833                              True                             True   \n",
      "834                              True                             True   \n",
      "835                              True                             True   \n",
      "836                              True                             True   \n",
      "837                              True                             True   \n",
      "838                              True                             True   \n",
      "839                              True                             True   \n",
      "840                              True                             True   \n",
      "841                              True                             True   \n",
      "842                              True                             True   \n",
      "843                              True                             True   \n",
      "844                              True                             True   \n",
      "845                              True                             True   \n",
      "846                              True                             True   \n",
      "847                              True                             True   \n",
      "848                              True                             True   \n",
      "849                              True                             True   \n",
      "850                              True                             True   \n",
      "851                              True                             True   \n",
      "852                              True                             True   \n",
      "853                              True                             True   \n",
      "854                              True                             True   \n",
      "855                              True                             True   \n",
      "856                              True                             True   \n",
      "857                              True                             True   \n",
      "\n",
      "     Dx:Cancer  Dx:CIN  Dx:HPV     Dx  Hinselmann  Schiller  Citology  Biopsy  \n",
      "0        False   False   False  False       False     False     False   False  \n",
      "1        False   False   False  False       False     False     False   False  \n",
      "2        False   False   False  False       False     False     False   False  \n",
      "3        False   False   False  False       False     False     False   False  \n",
      "4        False   False   False  False       False     False     False   False  \n",
      "5        False   False   False  False       False     False     False   False  \n",
      "6        False   False   False  False       False     False     False   False  \n",
      "7        False   False   False  False       False     False     False   False  \n",
      "8        False   False   False  False       False     False     False   False  \n",
      "9        False   False   False  False       False     False     False   False  \n",
      "10       False   False   False  False       False     False     False   False  \n",
      "11       False   False   False  False       False     False     False   False  \n",
      "12       False   False   False  False       False     False     False   False  \n",
      "13       False   False   False  False       False     False     False   False  \n",
      "14       False   False   False  False       False     False     False   False  \n",
      "15       False   False   False  False       False     False     False   False  \n",
      "16       False   False   False  False       False     False     False   False  \n",
      "17       False   False   False  False       False     False     False   False  \n",
      "18       False   False   False  False       False     False     False   False  \n",
      "19       False   False   False  False       False     False     False   False  \n",
      "20       False   False   False  False       False     False     False   False  \n",
      "21       False   False   False  False       False     False     False   False  \n",
      "22       False   False   False  False       False     False     False   False  \n",
      "23       False   False   False  False       False     False     False   False  \n",
      "24       False   False   False  False       False     False     False   False  \n",
      "25       False   False   False  False       False     False     False   False  \n",
      "26       False   False   False  False       False     False     False   False  \n",
      "27       False   False   False  False       False     False     False   False  \n",
      "28       False   False   False  False       False     False     False   False  \n",
      "29       False   False   False  False       False     False     False   False  \n",
      "..         ...     ...     ...    ...         ...       ...       ...     ...  \n",
      "828      False   False   False  False       False     False     False   False  \n",
      "829      False   False   False  False       False     False     False   False  \n",
      "830      False   False   False  False       False     False     False   False  \n",
      "831      False   False   False  False       False     False     False   False  \n",
      "832      False   False   False  False       False     False     False   False  \n",
      "833      False   False   False  False       False     False     False   False  \n",
      "834      False   False   False  False       False     False     False   False  \n",
      "835      False   False   False  False       False     False     False   False  \n",
      "836      False   False   False  False       False     False     False   False  \n",
      "837      False   False   False  False       False     False     False   False  \n",
      "838      False   False   False  False       False     False     False   False  \n",
      "839      False   False   False  False       False     False     False   False  \n",
      "840      False   False   False  False       False     False     False   False  \n",
      "841      False   False   False  False       False     False     False   False  \n",
      "842      False   False   False  False       False     False     False   False  \n",
      "843      False   False   False  False       False     False     False   False  \n",
      "844      False   False   False  False       False     False     False   False  \n",
      "845      False   False   False  False       False     False     False   False  \n",
      "846      False   False   False  False       False     False     False   False  \n",
      "847      False   False   False  False       False     False     False   False  \n",
      "848      False   False   False  False       False     False     False   False  \n",
      "849      False   False   False  False       False     False     False   False  \n",
      "850      False   False   False  False       False     False     False   False  \n",
      "851      False   False   False  False       False     False     False   False  \n",
      "852      False   False   False  False       False     False     False   False  \n",
      "853      False   False   False  False       False     False     False   False  \n",
      "854      False   False   False  False       False     False     False   False  \n",
      "855      False   False   False  False       False     False     False   False  \n",
      "856      False   False   False  False       False     False     False   False  \n",
      "857      False   False   False  False       False     False     False   False  \n",
      "\n",
      "[858 rows x 36 columns]\n",
      "Age                                     0\n",
      "Number of sexual partners              26\n",
      "First sexual intercourse                7\n",
      "Num of pregNaNcies                     56\n",
      "Smokes                                 13\n",
      "Smokes (years)                         13\n",
      "Smokes (packs/year)                    13\n",
      "Hormonal Contraceptives               108\n",
      "Hormonal Contraceptives (years)       108\n",
      "IUD                                   117\n",
      "IUD (years)                           117\n",
      "STDs                                  105\n",
      "STDs (number)                         105\n",
      "STDs:condylomatosis                   105\n",
      "STDs:cervical condylomatosis          105\n",
      "STDs:vaginal condylomatosis           105\n",
      "STDs:vulvo-perineal condylomatosis    105\n",
      "STDs:syphilis                         105\n",
      "STDs:pelvic inflammatory disease      105\n",
      "STDs:genital herpes                   105\n",
      "STDs:molluscum contagiosum            105\n",
      "STDs:AIDS                             105\n",
      "STDs:HIV                              105\n",
      "STDs:Hepatitis B                      105\n",
      "STDs:HPV                              105\n",
      "STDs: Number of diagnosis               0\n",
      "STDs: Time since first diagnosis      787\n",
      "STDs: Time since last diagnosis       787\n",
      "Dx:Cancer                               0\n",
      "Dx:CIN                                  0\n",
      "Dx:HPV                                  0\n",
      "Dx                                      0\n",
      "Hinselmann                              0\n",
      "Schiller                                0\n",
      "Citology                                0\n",
      "Biopsy                                  0\n",
      "dtype: int64\n"
     ]
    }
   ],
   "source": [
    "import pandas as pd\n",
    "import numpy as np\n",
    "import matplotlib.pyplot as plt\n",
    "HPV = pd.read_csv('C:/Users/ZOZO/Desktop/km sm-2/6312/group project/risk_factors_cervical_cancer.csv', header= 0)\n",
    "print(HPV.describe())\n",
    "print(HPV.isnull())\n",
    "print(HPV.isnull().sum())\n"
   ]
  },
  {
   "cell_type": "code",
   "execution_count": 7,
   "metadata": {},
   "outputs": [
    {
     "name": "stdout",
     "output_type": "stream",
     "text": [
      "Age                                     0\n",
      "Number of sexual partners              26\n",
      "First sexual intercourse                7\n",
      "Num of pregNaNcies                     56\n",
      "Smokes                                 13\n",
      "Smokes (years)                         13\n",
      "Smokes (packs/year)                    13\n",
      "Hormonal Contraceptives               108\n",
      "Hormonal Contraceptives (years)       108\n",
      "IUD                                   117\n",
      "IUD (years)                           117\n",
      "STDs                                  105\n",
      "STDs (number)                         105\n",
      "STDs:condylomatosis                   105\n",
      "STDs:cervical condylomatosis          105\n",
      "STDs:vaginal condylomatosis           105\n",
      "STDs:vulvo-perineal condylomatosis    105\n",
      "STDs:syphilis                         105\n",
      "STDs:pelvic inflammatory disease      105\n",
      "STDs:genital herpes                   105\n",
      "STDs:molluscum contagiosum            105\n",
      "STDs:AIDS                             105\n",
      "STDs:HIV                              105\n",
      "STDs:Hepatitis B                      105\n",
      "STDs:HPV                              105\n",
      "STDs: Number of diagnosis               0\n",
      "STDs: Time since first diagnosis      787\n",
      "STDs: Time since last diagnosis       787\n",
      "Dx:Cancer                               0\n",
      "Dx:CIN                                  0\n",
      "Dx:HPV                                  0\n",
      "Dx                                      0\n",
      "Hinselmann                              0\n",
      "Schiller                                0\n",
      "Citology                                0\n",
      "Biopsy                                  0\n",
      "dtype: int64\n"
     ]
    }
   ],
   "source": [
    "print(HPV.isnull().sum())"
   ]
  },
  {
   "cell_type": "code",
   "execution_count": 8,
   "metadata": {},
   "outputs": [
    {
     "name": "stdout",
     "output_type": "stream",
     "text": [
      "<class 'pandas.core.frame.DataFrame'>\n",
      "RangeIndex: 858 entries, 0 to 857\n",
      "Data columns (total 36 columns):\n",
      "Age                                   858 non-null int64\n",
      "Number of sexual partners             832 non-null float64\n",
      "First sexual intercourse              851 non-null float64\n",
      "Num of pregNaNcies                    802 non-null float64\n",
      "Smokes                                845 non-null float64\n",
      "Smokes (years)                        845 non-null float64\n",
      "Smokes (packs/year)                   845 non-null float64\n",
      "Hormonal Contraceptives               750 non-null float64\n",
      "Hormonal Contraceptives (years)       750 non-null float64\n",
      "IUD                                   741 non-null float64\n",
      "IUD (years)                           741 non-null float64\n",
      "STDs                                  753 non-null float64\n",
      "STDs (number)                         753 non-null float64\n",
      "STDs:condylomatosis                   753 non-null float64\n",
      "STDs:cervical condylomatosis          753 non-null float64\n",
      "STDs:vaginal condylomatosis           753 non-null float64\n",
      "STDs:vulvo-perineal condylomatosis    753 non-null float64\n",
      "STDs:syphilis                         753 non-null float64\n",
      "STDs:pelvic inflammatory disease      753 non-null float64\n",
      "STDs:genital herpes                   753 non-null float64\n",
      "STDs:molluscum contagiosum            753 non-null float64\n",
      "STDs:AIDS                             753 non-null float64\n",
      "STDs:HIV                              753 non-null float64\n",
      "STDs:Hepatitis B                      753 non-null float64\n",
      "STDs:HPV                              753 non-null float64\n",
      "STDs: Number of diagnosis             858 non-null int64\n",
      "STDs: Time since first diagnosis      71 non-null float64\n",
      "STDs: Time since last diagnosis       71 non-null float64\n",
      "Dx:Cancer                             858 non-null int64\n",
      "Dx:CIN                                858 non-null int64\n",
      "Dx:HPV                                858 non-null int64\n",
      "Dx                                    858 non-null int64\n",
      "Hinselmann                            858 non-null int64\n",
      "Schiller                              858 non-null int64\n",
      "Citology                              858 non-null int64\n",
      "Biopsy                                858 non-null int64\n",
      "dtypes: float64(26), int64(10)\n",
      "memory usage: 241.4 KB\n"
     ]
    }
   ],
   "source": [
    "HPV.info()"
   ]
  },
  {
   "cell_type": "code",
   "execution_count": 9,
   "metadata": {},
   "outputs": [],
   "source": [
    "HPV1 = HPV.drop(columns = [\"STDs: Time since first diagnosis\", \"STDs: Time since last diagnosis\"])"
   ]
  },
  {
   "cell_type": "code",
   "execution_count": 10,
   "metadata": {},
   "outputs": [
    {
     "data": {
      "text/plain": [
       "(858, 34)"
      ]
     },
     "execution_count": 10,
     "metadata": {},
     "output_type": "execute_result"
    }
   ],
   "source": [
    "HPV1.shape"
   ]
  },
  {
   "cell_type": "code",
   "execution_count": 11,
   "metadata": {},
   "outputs": [
    {
     "data": {
      "text/plain": [
       "array([[<matplotlib.axes._subplots.AxesSubplot object at 0x000001E94E954D68>]],\n",
       "      dtype=object)"
      ]
     },
     "execution_count": 11,
     "metadata": {},
     "output_type": "execute_result"
    },
    {
     "data": {
      "image/png": "[encoded data removed]",
      "text/plain": [
       "<Figure size 432x288 with 1 Axes>"
      ]
     },
     "metadata": {
      "needs_background": "light"
     },
     "output_type": "display_data"
    }
   ],
   "source": [
    "HPV1.hist(column = [\"Number of sexual partners\"])"
   ]
  },
  {
   "cell_type": "code",
   "execution_count": 12,
   "metadata": {},
   "outputs": [],
   "source": [
    "s1 = HPV1[\"Number of sexual partners\"].value_counts(normalize = True)\n",
    "missing_partners = HPV1[\"Number of sexual partners\"].isnull()\n",
    "HPV1.loc[missing_partners,\"Number of sexual partners\"]= np.random.choice(s1.index, size=26, p = s1.values)"
   ]
  },
  {
   "cell_type": "code",
   "execution_count": 13,
   "metadata": {},
   "outputs": [
    {
     "data": {
      "text/plain": [
       "array([[<matplotlib.axes._subplots.AxesSubplot object at 0x000001E94EC90400>]],\n",
       "      dtype=object)"
      ]
     },
     "execution_count": 13,
     "metadata": {},
     "output_type": "execute_result"
    },
    {
     "data": {
      "image/png": "[encoded data removed]",
      "text/plain": [
       "<Figure size 432x288 with 1 Axes>"
      ]
     },
     "metadata": {
      "needs_background": "light"
     },
     "output_type": "display_data"
    }
   ],
   "source": [
    "HPV1.hist(column = [\"First sexual intercourse\"])"
   ]
  },
  {
   "cell_type": "code",
   "execution_count": 14,
   "metadata": {},
   "outputs": [],
   "source": [
    "s2 = HPV1[\"First sexual intercourse\"].value_counts(normalize = True)\n",
    "missing_intercourse = HPV1[\"First sexual intercourse\"].isnull()\n",
    "HPV1.loc[missing_intercourse,\"First sexual intercourse\"]= np.random.choice(s2.index, size=7, p = s2.values)"
   ]
  },
  {
   "cell_type": "code",
   "execution_count": 15,
   "metadata": {},
   "outputs": [
    {
     "name": "stdout",
     "output_type": "stream",
     "text": [
      "Age                                     0\n",
      "Number of sexual partners               0\n",
      "First sexual intercourse                0\n",
      "Num of pregNaNcies                     56\n",
      "Smokes                                 13\n",
      "Smokes (years)                         13\n",
      "Smokes (packs/year)                    13\n",
      "Hormonal Contraceptives               108\n",
      "Hormonal Contraceptives (years)       108\n",
      "IUD                                   117\n",
      "IUD (years)                           117\n",
      "STDs                                  105\n",
      "STDs (number)                         105\n",
      "STDs:condylomatosis                   105\n",
      "STDs:cervical condylomatosis          105\n",
      "STDs:vaginal condylomatosis           105\n",
      "STDs:vulvo-perineal condylomatosis    105\n",
      "STDs:syphilis                         105\n",
      "STDs:pelvic inflammatory disease      105\n",
      "STDs:genital herpes                   105\n",
      "STDs:molluscum contagiosum            105\n",
      "STDs:AIDS                             105\n",
      "STDs:HIV                              105\n",
      "STDs:Hepatitis B                      105\n",
      "STDs:HPV                              105\n",
      "STDs: Number of diagnosis               0\n",
      "Dx:Cancer                               0\n",
      "Dx:CIN                                  0\n",
      "Dx:HPV                                  0\n",
      "Dx                                      0\n",
      "Hinselmann                              0\n",
      "Schiller                                0\n",
      "Citology                                0\n",
      "Biopsy                                  0\n",
      "dtype: int64\n"
     ]
    }
   ],
   "source": [
    "print(HPV1.isnull().sum())"
   ]
  },
  {
   "cell_type": "code",
   "execution_count": 16,
   "metadata": {},
   "outputs": [
    {
     "data": {
      "text/plain": [
       "array([[<matplotlib.axes._subplots.AxesSubplot object at 0x000001E94E96E2E8>]],\n",
       "      dtype=object)"
      ]
     },
     "execution_count": 16,
     "metadata": {},
     "output_type": "execute_result"
    },
    {
     "data": {
      "image/png": "[encoded data removed]",
      "text/plain": [
       "<Figure size 432x288 with 1 Axes>"
      ]
     },
     "metadata": {
      "needs_background": "light"
     },
     "output_type": "display_data"
    }
   ],
   "source": [
    "HPV1.hist(column = [\"Num of pregNaNcies\"])"
   ]
  },
  {
   "cell_type": "code",
   "execution_count": 17,
   "metadata": {},
   "outputs": [],
   "source": [
    "s3 = HPV1[\"Num of pregNaNcies\"].value_counts(normalize = True)\n",
    "missing_pregnancy = HPV1[\"Num of pregNaNcies\"].isnull()\n",
    "HPV1.loc[missing_pregnancy,\"Num of pregNaNcies\"]= np.random.choice(s3.index, size=56, p = s3.values)"
   ]
  },
  {
   "cell_type": "code",
   "execution_count": 18,
   "metadata": {},
   "outputs": [
    {
     "name": "stdout",
     "output_type": "stream",
     "text": [
      "Age                                     0\n",
      "Number of sexual partners               0\n",
      "First sexual intercourse                0\n",
      "Num of pregNaNcies                      0\n",
      "Smokes                                 13\n",
      "Smokes (years)                         13\n",
      "Smokes (packs/year)                    13\n",
      "Hormonal Contraceptives               108\n",
      "Hormonal Contraceptives (years)       108\n",
      "IUD                                   117\n",
      "IUD (years)                           117\n",
      "STDs                                  105\n",
      "STDs (number)                         105\n",
      "STDs:condylomatosis                   105\n",
      "STDs:cervical condylomatosis          105\n",
      "STDs:vaginal condylomatosis           105\n",
      "STDs:vulvo-perineal condylomatosis    105\n",
      "STDs:syphilis                         105\n",
      "STDs:pelvic inflammatory disease      105\n",
      "STDs:genital herpes                   105\n",
      "STDs:molluscum contagiosum            105\n",
      "STDs:AIDS                             105\n",
      "STDs:HIV                              105\n",
      "STDs:Hepatitis B                      105\n",
      "STDs:HPV                              105\n",
      "STDs: Number of diagnosis               0\n",
      "Dx:Cancer                               0\n",
      "Dx:CIN                                  0\n",
      "Dx:HPV                                  0\n",
      "Dx                                      0\n",
      "Hinselmann                              0\n",
      "Schiller                                0\n",
      "Citology                                0\n",
      "Biopsy                                  0\n",
      "dtype: int64\n"
     ]
    }
   ],
   "source": [
    "print(HPV1.isnull().sum())"
   ]
  },
  {
   "cell_type": "code",
   "execution_count": 19,
   "metadata": {},
   "outputs": [],
   "source": [
    "HPV2 = pd.read_csv('C:/Users/ZOZO/Desktop/km sm-2/6312/group project/New_risk_factors_cervical_cancer.csv', header= 0)"
   ]
  },
  {
   "cell_type": "code",
   "execution_count": 20,
   "metadata": {},
   "outputs": [
    {
     "data": {
      "text/plain": [
       "(726, 36)"
      ]
     },
     "execution_count": 20,
     "metadata": {},
     "output_type": "execute_result"
    }
   ],
   "source": [
    "HPV2.shape"
   ]
  },
  {
   "cell_type": "code",
   "execution_count": 21,
   "metadata": {},
   "outputs": [
    {
     "name": "stdout",
     "output_type": "stream",
     "text": [
      "Age                                   0\n",
      "Number of sexual partners             0\n",
      "First sexual intercourse              0\n",
      "Num of pregnancies                    0\n",
      "Smokes                                0\n",
      "Smokes (years)                        0\n",
      "Smokes (packs/year)                   0\n",
      "Hormonal Contraceptives               0\n",
      "Hormonal Contraceptives (years)       0\n",
      "IUD                                   0\n",
      "IUD (years)                           0\n",
      "STDs                                  0\n",
      "STDs (number)                         0\n",
      "STDs:condylomatosis                   0\n",
      "STDs:cervical condylomatosis          0\n",
      "STDs:vaginal condylomatosis           0\n",
      "STDs:vulvo-perineal condylomatosis    0\n",
      "STDs:syphilis                         0\n",
      "STDs:pelvic inflammatory disease      0\n",
      "STDs:genital herpes                   0\n",
      "STDs:molluscum contagiosum            0\n",
      "STDs:AIDS                             0\n",
      "STDs:HIV                              0\n",
      "STDs:Hepatitis B                      0\n",
      "STDs:HPV                              0\n",
      "STDs: Number of diagnosis             0\n",
      "Dx:Cancer                             0\n",
      "Dx:CIN                                0\n",
      "Dx                                    0\n",
      "Dx:HPV                                0\n",
      "Hinselmann                            0\n",
      "Schiller                              0\n",
      "Citology                              0\n",
      "Biopsy                                0\n",
      "Result                                0\n",
      "Final Result                          0\n",
      "dtype: int64\n"
     ]
    }
   ],
   "source": [
    "print(HPV2.isnull().sum())"
   ]
  },
  {
   "cell_type": "code",
   "execution_count": 22,
   "metadata": {},
   "outputs": [],
   "source": [
    "from sklearn.preprocessing import StandardScaler, MinMaxScaler\n",
    "X= HPV2[['Age','Number of sexual partners','First sexual intercourse','Num of pregnancies','Smokes','Smokes (years)','Smokes (packs/year)','Hormonal Contraceptives','Hormonal Contraceptives (years)','IUD','IUD (years)','STDs','STDs (number)','STDs:condylomatosis','STDs:cervical condylomatosis','STDs:vaginal condylomatosis','STDs:vulvo-perineal condylomatosis','STDs:syphilis','STDs:pelvic inflammatory disease','STDs:genital herpes','STDs:molluscum contagiosum','STDs:AIDS','STDs:HIV','STDs:Hepatitis B','STDs:HPV','STDs: Number of diagnosis','Dx:Cancer','Dx:HPV','Dx:CIN','Dx']]\n",
    "Y= HPV2[['Final Result']]\n",
    "X1 = MinMaxScaler().fit_transform(X)"
   ]
  },
  {
   "cell_type": "code",
   "execution_count": 23,
   "metadata": {},
   "outputs": [
    {
     "name": "stderr",
     "output_type": "stream",
     "text": [
      "E:\\Tools\\Anaconda\\lib\\site-packages\\sklearn\\utils\\validation.py:578: DataConversionWarning: A column-vector y was passed when a 1d array was expected. Please change the shape of y to (n_samples, ), for example using ravel().\n",
      "  y = column_or_1d(y, warn=True)\n"
     ]
    },
    {
     "data": {
      "text/plain": [
       "array([0, 0, 0, 0, 0, 0, 0, 0, 0, 0, 0, 0, 0, 0, 0, 0, 0, 0, 0, 0, 0, 0,\n",
       "       0, 0, 0, 0, 0, 0, 0, 0, 0, 0, 0, 0, 0, 0, 0, 0, 0, 0, 0, 0, 0, 0,\n",
       "       0, 0, 0, 0, 0, 0, 0, 0, 0, 0, 0, 0, 0, 0, 0, 0, 0, 0, 0, 0, 0, 0,\n",
       "       0, 0, 0, 0, 0, 0, 0, 0, 0, 0, 0, 0, 0, 0, 0, 0, 0, 0, 0, 0, 0, 0,\n",
       "       0, 0, 0, 0, 0, 0, 0, 0, 0, 0, 0, 0, 0, 0, 0, 0, 0, 0, 0, 0, 0, 0,\n",
       "       0, 0, 0, 0, 0, 0, 0, 0, 0, 0, 0, 0, 0, 0, 0, 0, 0, 0, 0, 0, 0, 0,\n",
       "       0, 0, 0, 0, 0, 0, 0, 0, 0, 0, 0, 0, 0, 0, 0, 0, 0, 0, 0, 0, 0, 0,\n",
       "       0, 0, 0, 0, 0, 0, 0, 0, 0, 0, 0, 0, 0, 0, 0, 0, 0, 0, 0, 0, 0, 0,\n",
       "       0, 0, 0, 0, 0, 0, 0, 0, 0, 0, 0, 1, 0, 0, 0, 0, 0, 0, 0, 0, 0, 0,\n",
       "       0, 0, 0, 0, 0, 0, 0, 0, 0, 0, 0, 0, 0, 0, 0, 0, 0, 0, 0, 0, 0, 0,\n",
       "       0, 0, 0, 0, 0, 0, 0, 0, 0, 0, 0, 0, 0, 0, 0, 0, 0, 0, 0, 0, 0, 0,\n",
       "       0, 0, 0, 0, 0, 0, 0, 0, 0, 0, 0, 0, 0, 0, 0, 0, 0, 0, 0, 0, 0, 0,\n",
       "       0, 0, 0, 0, 0, 0, 0, 0, 0, 0, 0, 0, 0, 0, 0, 0, 0, 0, 0, 0, 0, 0,\n",
       "       0, 0, 0, 0, 0, 0, 0, 0, 0, 0, 0, 0, 0, 0, 0, 0, 0, 0, 0, 0, 0, 0,\n",
       "       0, 0, 0, 0, 0, 0, 0, 0, 0, 0, 0, 0, 0, 0, 0, 0, 0, 0, 0, 0, 0, 0,\n",
       "       0, 0, 0, 0, 0, 0, 0, 0, 0, 0, 0, 1, 0, 0, 0, 0, 0, 0, 0, 0, 0, 0,\n",
       "       0, 0, 0, 0, 0, 0, 0, 0, 0, 0, 0, 0, 0, 0, 0, 0, 0, 0, 0, 0, 0, 0,\n",
       "       0, 0, 0, 0, 0, 0, 0, 0, 0, 0, 0, 0, 0, 0, 0, 0, 0, 0, 0, 0, 0, 0,\n",
       "       0, 0, 0, 0, 0, 0, 0, 0, 0, 0, 0, 0, 0, 0, 0, 0, 0, 0, 0, 0, 0, 0,\n",
       "       0, 0, 0, 0, 0, 0, 0, 0, 0, 0, 0, 0, 0, 0, 0, 0, 0, 0, 0, 0, 0, 0,\n",
       "       0, 0, 0, 0, 0, 0, 0, 0, 0, 0, 0, 0, 0, 0, 0, 0, 0, 0, 0, 0, 0, 0,\n",
       "       0, 0, 0, 0, 0, 0, 0, 0, 0, 0, 0, 0, 0, 0, 0, 0, 0, 0, 0, 0, 0, 0,\n",
       "       0, 0, 0, 0, 0, 0, 0, 0, 0, 0, 0, 0, 0, 0, 0, 1, 0, 0, 0, 0, 0, 0,\n",
       "       0, 0, 0, 0, 1, 0, 0, 0, 0, 0, 0, 0, 0, 0, 0, 0, 0, 0, 0, 0, 0, 0,\n",
       "       0, 0, 0, 0, 0, 0, 0, 0, 0, 0, 0, 0, 0, 0, 0, 0, 0, 0, 0, 0, 0, 0,\n",
       "       0, 0, 0, 0, 0, 0, 0, 0, 0, 0, 0, 0, 0, 0, 0, 0, 0, 0, 0, 0, 0, 0,\n",
       "       0, 0, 0, 0, 0, 0, 0, 0, 0, 0, 0, 0, 0, 0, 0, 0, 0, 0, 0, 0, 0, 0,\n",
       "       0, 0, 0, 0, 0, 0, 0, 0, 0, 0, 0, 0, 0, 0, 0, 0, 0, 0, 0, 0, 0, 0,\n",
       "       0, 0, 0, 1, 0, 0, 0, 0, 0, 0, 0, 0, 0, 0, 0, 0, 0, 0, 0, 0, 0, 0,\n",
       "       0, 0, 0, 0, 0, 0, 0, 0, 0, 0, 1, 0, 0, 0, 0, 0, 0, 0, 0, 0, 0, 0,\n",
       "       0, 0, 0, 0, 0, 0, 0, 0, 0, 0, 0, 0, 0, 0, 0, 0, 0, 0, 0, 0, 0, 0,\n",
       "       0, 0, 0, 0, 0, 0, 0, 0, 0, 0, 0, 0, 0, 0, 0, 0, 0, 0, 0, 0, 0, 0,\n",
       "       0, 0, 0, 0, 0, 0, 0, 0, 0, 0, 0, 0, 0, 0, 0, 0, 0, 0, 0, 0, 0, 0],\n",
       "      dtype=int64)"
      ]
     },
     "execution_count": 23,
     "metadata": {},
     "output_type": "execute_result"
    }
   ],
   "source": [
    "from sklearn.linear_model import LogisticRegression\n",
    "log_regression = LogisticRegression()\n",
    "log_regression.fit(X1,Y)\n",
    "\n",
    "Y_pred = log_regression.predict(X1)\n",
    "Y_pred"
   ]
  },
  {
   "cell_type": "code",
   "execution_count": 24,
   "metadata": {},
   "outputs": [
    {
     "name": "stdout",
     "output_type": "stream",
     "text": [
      "[[-0.35276302 -0.53105784 -0.76351227  0.15684597  0.45874977  0.36501972\n",
      "  -0.5003545  -0.26038544  1.02643459  0.27268318  0.43183787  0.12878567\n",
      "   0.08527936  0.36739362  0.         -0.68836613  0.4858965  -0.34427608\n",
      "  -0.09123383  0.79559426 -0.12108443  0.          0.948168   -0.31957739\n",
      "  -0.69139708  0.43331119  0.59692389  0.93451377  0.43289799  0.60964334]]\n",
      "[-1.87341484]\n"
     ]
    }
   ],
   "source": [
    "print(log_regression.coef_)\n",
    "print(log_regression.intercept_)"
   ]
  },
  {
   "cell_type": "code",
   "execution_count": 25,
   "metadata": {},
   "outputs": [],
   "source": [
    "from sklearn.metrics import accuracy_score, precision_score, recall_score, f1_score"
   ]
  },
  {
   "cell_type": "code",
   "execution_count": 26,
   "metadata": {},
   "outputs": [
    {
     "data": {
      "text/plain": [
       "0.871900826446281"
      ]
     },
     "execution_count": 26,
     "metadata": {},
     "output_type": "execute_result"
    }
   ],
   "source": [
    "accuracy_score(Y, Y_pred)"
   ]
  },
  {
   "cell_type": "code",
   "execution_count": 27,
   "metadata": {},
   "outputs": [
    {
     "data": {
      "text/plain": [
       "0.5"
      ]
     },
     "execution_count": 27,
     "metadata": {},
     "output_type": "execute_result"
    }
   ],
   "source": [
    "precision_score(Y, Y_pred)"
   ]
  },
  {
   "cell_type": "code",
   "execution_count": 28,
   "metadata": {},
   "outputs": [
    {
     "data": {
      "text/plain": [
       "0.03225806451612903"
      ]
     },
     "execution_count": 28,
     "metadata": {},
     "output_type": "execute_result"
    }
   ],
   "source": [
    "recall_score(Y, Y_pred)"
   ]
  },
  {
   "cell_type": "code",
   "execution_count": 29,
   "metadata": {},
   "outputs": [
    {
     "data": {
      "text/plain": [
       "0.06060606060606061"
      ]
     },
     "execution_count": 29,
     "metadata": {},
     "output_type": "execute_result"
    }
   ],
   "source": [
    "f1_score(Y, Y_pred)"
   ]
  },
  {
   "cell_type": "code",
   "execution_count": 30,
   "metadata": {},
   "outputs": [
    {
     "name": "stdout",
     "output_type": "stream",
     "text": [
      "(363, 30)\n",
      "(363, 1)\n",
      "(363, 30)\n",
      "(363, 1)\n"
     ]
    }
   ],
   "source": [
    "from sklearn.model_selection import train_test_split\n",
    "X_train,X_test,Y_train,Y_test = train_test_split(X1,Y,test_size = 0.5, random_state=1)\n",
    "\n",
    "print(X_test.shape)\n",
    "print(Y_test.shape)\n",
    "print(X_train.shape)\n",
    "print(Y_train.shape)"
   ]
  },
  {
   "cell_type": "code",
   "execution_count": 31,
   "metadata": {},
   "outputs": [
    {
     "name": "stdout",
     "output_type": "stream",
     "text": [
      "[0 0 0 0 0 0 0 0 0 0 0 0 0 0 0 0 0 0 0 0 0 0 0 0 0 0 0 0 0 0 0 0 0 0 0 0 0\n",
      " 0 0 0 0 1 0 0 0 0 0 0 0 0 0 0 0 0 0 0 0 0 0 0 0 0 0 0 0 0 0 0 0 0 0 0 0 0\n",
      " 0 0 0 0 0 0 0 0 0 0 0 0 0 0 0 0 0 0 0 0 0 0 0 0 0 0 0 0 0 0 0 0 0 0 0 0 0\n",
      " 0 0 0 0 0 0 0 0 0 0 0 0 0 0 0 0 0 0 0 0 0 0 0 0 0 0 0 0 0 0 0 0 0 0 0 0 0\n",
      " 0 0 0 0 0 0 0 0 0 0 0 0 0 0 0 0 0 0 0 0 0 0 0 0 0 0 0 0 0 0 0 0 0 0 0 0 0\n",
      " 0 0 0 0 0 0 0 0 0 0 0 0 0 0 0 0 0 0 0 0 0 0 0 0 0 0 0 0 0 0 0 0 0 0 0 0 0\n",
      " 0 0 0 0 0 0 0 0 0 0 0 0 1 0 0 0 0 0 0 0 0 0 0 0 0 0 0 0 0 0 0 0 0 0 0 0 0\n",
      " 0 0 0 0 0 0 0 0 0 0 0 0 0 0 0 0 0 0 0 0 0 0 0 0 0 0 0 0 0 0 1 1 0 0 0 0 0\n",
      " 0 0 0 0 1 0 0 0 0 0 0 0 0 0 0 0 0 0 0 0 0 0 0 0 0 0 0 0 0 0 0 0 0 0 0 0 0\n",
      " 0 0 0 0 0 0 0 0 0 0 0 0 0 0 0 0 0 0 0 0 0 0 0 0 0 0 0 0 0 0]\n",
      "0.8622589531680441\n"
     ]
    },
    {
     "name": "stderr",
     "output_type": "stream",
     "text": [
      "E:\\Tools\\Anaconda\\lib\\site-packages\\sklearn\\utils\\validation.py:578: DataConversionWarning: A column-vector y was passed when a 1d array was expected. Please change the shape of y to (n_samples, ), for example using ravel().\n",
      "  y = column_or_1d(y, warn=True)\n"
     ]
    }
   ],
   "source": [
    "log_regression.fit(X_train, Y_train)\n",
    "Y_trainP = log_regression.predict(X_train)\n",
    "print(Y_trainP)\n",
    "\n",
    "from sklearn.metrics import accuracy_score\n",
    "print(accuracy_score(Y_train,Y_trainP))"
   ]
  },
  {
   "cell_type": "code",
   "execution_count": 32,
   "metadata": {},
   "outputs": [
    {
     "name": "stdout",
     "output_type": "stream",
     "text": [
      "[0 0 0 0 0 0 0 0 0 0 0 0 0 0 0 0 0 0 0 0 0 0 0 0 0 0 0 0 0 0 0 0 0 0 0 0 0\n",
      " 0 0 0 0 0 0 0 0 0 0 0 0 0 0 0 0 0 0 0 0 0 0 0 0 0 0 0 0 0 0 0 0 0 0 0 0 0\n",
      " 0 0 0 0 0 0 0 0 0 0 0 0 0 0 0 0 0 0 0 0 0 0 0 0 0 0 0 0 0 0 0 0 0 0 0 0 0\n",
      " 0 0 0 0 0 0 0 0 0 0 0 0 0 0 0 0 0 0 0 0 0 0 0 0 0 0 0 0 1 0 0 0 0 0 0 0 0\n",
      " 0 0 0 0 0 0 0 0 0 0 0 0 0 0 0 0 0 0 0 0 0 0 0 0 0 0 0 0 0 0 0 0 0 0 0 0 0\n",
      " 0 0 0 0 0 0 0 0 0 0 0 0 0 0 0 0 0 0 0 0 0 0 0 0 0 0 0 0 0 0 0 0 0 0 0 0 0\n",
      " 0 0 0 0 0 0 0 0 0 0 0 0 0 0 0 0 0 0 0 0 0 0 0 0 0 0 0 0 0 0 0 0 0 0 0 0 0\n",
      " 0 0 0 0 0 0 0 0 0 0 0 0 0 0 0 0 0 0 0 0 0 0 0 0 0 0 0 0 0 0 0 0 0 0 0 0 0\n",
      " 0 0 0 0 0 0 0 0 0 0 0 0 0 0 0 0 0 0 0 0 0 0 0 0 0 0 0 0 0 0 0 0 0 0 0 0 0\n",
      " 0 0 0 0 0 0 0 0 0 0 0 0 0 0 0 0 0 0 0 0 0 0 0 0 0 0 0 0 0 0]\n",
      "0.8925619834710744\n"
     ]
    },
    {
     "name": "stderr",
     "output_type": "stream",
     "text": [
      "E:\\Tools\\Anaconda\\lib\\site-packages\\sklearn\\utils\\validation.py:578: DataConversionWarning: A column-vector y was passed when a 1d array was expected. Please change the shape of y to (n_samples, ), for example using ravel().\n",
      "  y = column_or_1d(y, warn=True)\n"
     ]
    }
   ],
   "source": [
    "log_regression.fit(X_test, Y_test)\n",
    "Y_testP = log_regression.predict(X_test)\n",
    "print(Y_testP)\n",
    "\n",
    "print(accuracy_score(Y_test,Y_testP))"
   ]
  },
  {
   "cell_type": "code",
   "execution_count": 33,
   "metadata": {},
   "outputs": [
    {
     "name": "stdout",
     "output_type": "stream",
     "text": [
      "[[357   1]\n",
      " [  5   0]]\n"
     ]
    }
   ],
   "source": [
    "from sklearn.metrics import confusion_matrix\n",
    "\n",
    "cm = confusion_matrix(Y_trainP, Y_testP)\n",
    "print(cm)"
   ]
  },
  {
   "cell_type": "code",
   "execution_count": 34,
   "metadata": {},
   "outputs": [
    {
     "name": "stdout",
     "output_type": "stream",
     "text": [
      "0.04878048780487806\n",
      "0.13793103448275862\n",
      "0.8\n",
      "1.0\n"
     ]
    }
   ],
   "source": [
    "from sklearn.metrics import f1_score\n",
    "\n",
    "print(f1_score(Y_test,Y_testP))\n",
    "print(f1_score(Y_train,Y_trainP))\n",
    "print(precision_score(Y_train,Y_trainP))\n",
    "print(precision_score(Y_test,Y_testP))"
   ]
  },
  {
   "cell_type": "code",
   "execution_count": 36,
   "metadata": {},
   "outputs": [],
   "source": [
    "import matplotlib as mpl\n",
    "from sklearn.preprocessing import label_binarize\n",
    "from sklearn import metrics"
   ]
  },
  {
   "cell_type": "code",
   "execution_count": 37,
   "metadata": {},
   "outputs": [
    {
     "data": {
      "image/png": "[encoded data removed]",
      "text/plain": [
       "<Figure size 432x288 with 1 Axes>"
      ]
     },
     "metadata": {
      "needs_background": "light"
     },
     "output_type": "display_data"
    }
   ],
   "source": [
    "from sklearn.metrics import roc_auc_score\n",
    "from sklearn.metrics import roc_curve\n",
    "logit_roc_auc = roc_auc_score(Y_test, log_regression.predict(X_test))\n",
    "fpr, tpr, thresholds = roc_curve(Y_test, log_regression.predict_proba(X_test)[:,1])\n",
    "plt.figure()\n",
    "plt.plot(fpr, tpr, label='Logistic Regression (area = %0.2f)' % logit_roc_auc)\n",
    "plt.plot([0, 1], [0, 1],'r--')\n",
    "plt.xlim([0.0, 1.0])\n",
    "plt.ylim([0.0, 1.05])\n",
    "plt.xlabel('False Positive Rate')\n",
    "plt.ylabel('True Positive Rate')\n",
    "plt.title('Receiver operating characteristic')\n",
    "plt.legend(loc=\"lower right\")\n",
    "plt.savefig('Log_ROC')\n",
    "plt.show()"
   ]
  },
  {
   "cell_type": "code",
   "execution_count": null,
   "metadata": {},
   "outputs": [],
   "source": []
  }
 ],
 "metadata": {
  "kernelspec": {
   "display_name": "Python 3",
   "language": "python",
   "name": "python3"
  },
  "language_info": {
   "codemirror_mode": {
    "name": "ipython",
    "version": 3
   },
   "file_extension": ".py",
   "mimetype": "text/x-python",
   "name": "python",
   "nbconvert_exporter": "python",
   "pygments_lexer": "ipython3",
   "version": "3.7.0"
  }
 },
 "nbformat": 4,
 "nbformat_minor": 2
}
