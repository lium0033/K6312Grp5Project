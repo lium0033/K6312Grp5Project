{
 "cells": [
  {
   "cell_type": "code",
   "execution_count": 1,
   "metadata": {},
   "outputs": [
    {
     "name": "stdout",
     "output_type": "stream",
     "text": [
      "     Age  Number of sexual partners  First sexual intercourse  \\\n",
      "0     18                          4                        15   \n",
      "1     15                          1                        14   \n",
      "2     34                          1                        18   \n",
      "3     52                          5                        16   \n",
      "4     46                          3                        21   \n",
      "..   ...                        ...                       ...   \n",
      "721   34                          3                        18   \n",
      "722   32                          2                        19   \n",
      "723   25                          2                        17   \n",
      "724   33                          2                        24   \n",
      "725   29                          2                        20   \n",
      "\n",
      "     Num of pregnancies  Smokes  Smokes (years)  Smokes (packs/year)  \\\n",
      "0                     1       0             0.0                  0.0   \n",
      "1                     1       0             0.0                  0.0   \n",
      "2                     1       0             0.0                  0.0   \n",
      "3                     4       1            37.0                 37.0   \n",
      "4                     4       0             0.0                  0.0   \n",
      "..                  ...     ...             ...                  ...   \n",
      "721                   0       0             0.0                  0.0   \n",
      "722                   1       0             0.0                  0.0   \n",
      "723                   0       0             0.0                  0.0   \n",
      "724                   2       0             0.0                  0.0   \n",
      "725                   1       0             0.0                  0.0   \n",
      "\n",
      "     Hormonal Contraceptives  Hormonal Contraceptives (years)  IUD  ...  \\\n",
      "0                          0                             0.00    0  ...   \n",
      "1                          0                             0.00    0  ...   \n",
      "2                          0                             0.00    0  ...   \n",
      "3                          1                             3.00    0  ...   \n",
      "4                          1                            15.00    0  ...   \n",
      "..                       ...                              ...  ...  ...   \n",
      "721                        0                             0.00    0  ...   \n",
      "722                        1                             8.00    0  ...   \n",
      "723                        1                             0.08    0  ...   \n",
      "724                        1                             0.08    0  ...   \n",
      "725                        1                             0.50    0  ...   \n",
      "\n",
      "     Dx:Cancer  Dx:CIN  Dx  Dx:HPV  Hinselmann  Schiller  Citology  Biopsy  \\\n",
      "0            0       0   0       0           0         0         0       0   \n",
      "1            0       0   0       0           0         0         0       0   \n",
      "2            0       0   0       0           0         0         0       0   \n",
      "3            1       0   0       1           0         0         0       0   \n",
      "4            0       0   0       0           0         0         0       0   \n",
      "..         ...     ...  ..     ...         ...       ...       ...     ...   \n",
      "721          0       0   0       0           0         0         0       0   \n",
      "722          0       0   0       0           0         0         0       0   \n",
      "723          0       0   0       0           0         0         1       0   \n",
      "724          0       0   0       0           0         0         0       0   \n",
      "725          0       0   0       0           0         0         0       0   \n",
      "\n",
      "     Result  Final Result  \n",
      "0         0             0  \n",
      "1         0             0  \n",
      "2         0             0  \n",
      "3         0             0  \n",
      "4         0             0  \n",
      "..      ...           ...  \n",
      "721       0             0  \n",
      "722       0             0  \n",
      "723       1             1  \n",
      "724       0             0  \n",
      "725       0             0  \n",
      "\n",
      "[726 rows x 36 columns]\n"
     ]
    }
   ],
   "source": [
    "import numpy as np\n",
    "import pandas as pd\n",
    "HPV = pd.read_csv('C:/Users/m1551/Desktop/Knowledge Management/K6312/Group Project/New1.csv', header= 0)\n",
    "print(HPV)"
   ]
  },
  {
   "cell_type": "code",
   "execution_count": 2,
   "metadata": {},
   "outputs": [
    {
     "name": "stdout",
     "output_type": "stream",
     "text": [
      "<class 'pandas.core.frame.DataFrame'>\n",
      "RangeIndex: 726 entries, 0 to 725\n",
      "Data columns (total 36 columns):\n",
      "Age                                   726 non-null int64\n",
      "Number of sexual partners             726 non-null int64\n",
      "First sexual intercourse              726 non-null int64\n",
      "Num of pregnancies                    726 non-null int64\n",
      "Smokes                                726 non-null int64\n",
      "Smokes (years)                        726 non-null float64\n",
      "Smokes (packs/year)                   726 non-null float64\n",
      "Hormonal Contraceptives               726 non-null int64\n",
      "Hormonal Contraceptives (years)       726 non-null float64\n",
      "IUD                                   726 non-null int64\n",
      "IUD (years)                           726 non-null float64\n",
      "STDs                                  726 non-null int64\n",
      "STDs (number)                         726 non-null int64\n",
      "STDs:condylomatosis                   726 non-null int64\n",
      "STDs:cervical condylomatosis          726 non-null int64\n",
      "STDs:vaginal condylomatosis           726 non-null int64\n",
      "STDs:vulvo-perineal condylomatosis    726 non-null int64\n",
      "STDs:syphilis                         726 non-null int64\n",
      "STDs:pelvic inflammatory disease      726 non-null int64\n",
      "STDs:genital herpes                   726 non-null int64\n",
      "STDs:molluscum contagiosum            726 non-null int64\n",
      "STDs:AIDS                             726 non-null int64\n",
      "STDs:HIV                              726 non-null int64\n",
      "STDs:Hepatitis B                      726 non-null int64\n",
      "STDs:HPV                              726 non-null int64\n",
      "STDs: Number of diagnosis             726 non-null int64\n",
      "Dx:Cancer                             726 non-null int64\n",
      "Dx:CIN                                726 non-null int64\n",
      "Dx                                    726 non-null int64\n",
      "Dx:HPV                                726 non-null int64\n",
      "Hinselmann                            726 non-null int64\n",
      "Schiller                              726 non-null int64\n",
      "Citology                              726 non-null int64\n",
      "Biopsy                                726 non-null int64\n",
      "Result                                726 non-null int64\n",
      "Final Result                          726 non-null int64\n",
      "dtypes: float64(4), int64(32)\n",
      "memory usage: 204.3 KB\n"
     ]
    }
   ],
   "source": [
    "HPV.info()"
   ]
  },
  {
   "cell_type": "code",
   "execution_count": 3,
   "metadata": {
    "scrolled": true
   },
   "outputs": [
    {
     "data": {
      "text/plain": [
       "(726, 36)"
      ]
     },
     "execution_count": 3,
     "metadata": {},
     "output_type": "execute_result"
    }
   ],
   "source": [
    "HPV.shape"
   ]
  },
  {
   "cell_type": "code",
   "execution_count": 7,
   "metadata": {},
   "outputs": [],
   "source": [
    "from sklearn.preprocessing import StandardScaler, MinMaxScaler\n",
    "X= HPV[['Age','Number of sexual partners','First sexual intercourse','Num of pregnancies','Smokes','Smokes (years)','Smokes (packs/year)','Hormonal Contraceptives','Hormonal Contraceptives (years)','IUD','IUD (years)','STDs','STDs (number)','STDs:condylomatosis','STDs:cervical condylomatosis','STDs:vaginal condylomatosis','STDs:vulvo-perineal condylomatosis','STDs:syphilis','STDs:pelvic inflammatory disease','STDs:genital herpes','STDs:molluscum contagiosum','STDs:AIDS','STDs:HIV','STDs:Hepatitis B','STDs:HPV','STDs: Number of diagnosis','Dx:Cancer','Dx:CIN','Dx','Dx:HPV']]\n",
    "Y= HPV[['Final Result']]\n",
    "X1 = MinMaxScaler().fit_transform(X)"
   ]
  },
  {
   "cell_type": "code",
   "execution_count": 13,
   "metadata": {},
   "outputs": [
    {
     "name": "stdout",
     "output_type": "stream",
     "text": [
      "(363, 30)\n",
      "(363, 30)\n"
     ]
    }
   ],
   "source": [
    "from sklearn.model_selection import train_test_split\n",
    "X_train,X_test,Y_train,Y_test = train_test_split(X1,Y,test_size = 0.5, random_state=1)\n",
    "print(X_test.shape)\n",
    "print(X_train.shape)"
   ]
  },
  {
   "cell_type": "code",
   "execution_count": 18,
   "metadata": {},
   "outputs": [
    {
     "name": "stdout",
     "output_type": "stream",
     "text": [
      "[0 0 0 0 0 0 0 0 0 0 0 0 0 0 0 0 0 0 0 0 0 0 0 0 0 0 0 0 0 0 0 0 0 0 0 0 0\n",
      " 0 0 0 0 1 0 0 0 0 0 0 0 0 0 0 0 0 0 0 1 0 0 1 0 0 0 0 0 0 0 0 0 0 0 0 0 0\n",
      " 0 0 0 0 0 0 0 0 0 1 0 0 0 1 0 0 0 0 0 0 0 0 0 0 0 0 0 0 0 0 1 0 0 0 0 0 1\n",
      " 0 0 0 0 0 0 0 0 0 0 0 0 0 0 0 1 0 0 0 0 0 0 0 0 0 0 0 0 0 0 0 0 0 0 0 0 0\n",
      " 0 1 0 0 0 0 0 0 0 0 0 0 0 0 0 0 0 0 0 0 0 0 0 0 0 0 0 0 0 0 0 0 0 0 0 0 0\n",
      " 0 0 0 0 0 0 0 0 1 0 0 0 0 0 0 0 0 0 0 0 0 0 0 0 0 0 0 0 0 0 0 0 0 0 0 0 0\n",
      " 0 0 0 1 0 0 0 0 0 0 0 1 1 0 0 0 0 0 1 0 0 0 0 0 0 0 0 0 0 0 0 0 0 0 0 0 0\n",
      " 0 1 0 0 0 0 0 0 0 0 0 0 0 0 0 0 0 0 0 0 0 0 0 0 0 0 0 0 0 0 1 1 0 0 0 0 0\n",
      " 0 0 1 0 1 0 0 0 0 0 0 0 0 0 0 0 0 0 0 0 0 1 0 0 0 0 0 0 0 0 0 0 0 1 0 0 0\n",
      " 0 0 0 0 1 0 0 0 0 0 0 0 0 0 0 0 0 0 1 0 0 0 1 0 0 0 0 0 0 0]\n",
      "0.8760330578512396\n"
     ]
    },
    {
     "name": "stderr",
     "output_type": "stream",
     "text": [
      "C:\\Users\\m1551\\Anaconda3\\lib\\site-packages\\ipykernel_launcher.py:4: DataConversionWarning: A column-vector y was passed when a 1d array was expected. Please change the shape of y to (n_samples, ), for example using ravel().\n",
      "  after removing the cwd from sys.path.\n"
     ]
    }
   ],
   "source": [
    "from sklearn import neighbors\n",
    "from sklearn.neighbors import KNeighborsClassifier\n",
    "knn_classifier=KNeighborsClassifier(5)\n",
    "knn_classifier.fit(X_train,Y_train)\n",
    "y_predict=knn_classifier.predict(X_train)\n",
    "print(y_predict)\n",
    "from sklearn.metrics import accuracy_score\n",
    "print(accuracy_score(Y_train,y_predict))"
   ]
  },
  {
   "cell_type": "code",
   "execution_count": 19,
   "metadata": {},
   "outputs": [
    {
     "name": "stdout",
     "output_type": "stream",
     "text": [
      "[0 0 0 0 0 0 0 0 0 0 0 0 0 0 0 0 0 0 0 0 0 0 0 0 0 0 0 0 0 0 0 0 0 0 0 0 0\n",
      " 0 0 0 0 0 0 0 0 0 0 0 0 0 0 0 0 0 0 0 0 0 1 0 0 0 0 0 0 0 0 0 0 0 0 0 0 0\n",
      " 0 0 0 0 0 0 0 0 0 0 0 0 0 0 0 0 0 0 0 0 0 0 0 0 0 0 0 0 0 0 0 0 0 0 0 0 0\n",
      " 0 1 0 0 0 0 0 0 0 0 0 0 0 0 0 0 0 0 0 0 0 0 0 0 0 0 0 0 1 0 0 0 0 0 0 0 0\n",
      " 0 0 0 0 0 0 0 0 0 0 0 0 0 0 0 0 0 0 0 0 0 0 0 0 0 0 0 0 0 0 0 0 0 0 0 0 0\n",
      " 0 0 0 0 0 0 0 0 0 0 0 0 0 0 0 0 0 0 0 0 0 0 0 0 0 0 0 0 0 0 0 0 0 0 0 0 0\n",
      " 0 0 0 0 0 0 0 0 0 0 0 0 0 0 0 0 0 0 0 0 0 0 0 0 0 0 0 0 0 0 0 0 0 0 0 0 0\n",
      " 0 0 0 0 0 0 0 0 0 0 0 0 0 0 0 0 0 0 0 0 0 0 0 0 0 0 0 0 0 0 0 0 0 1 0 0 0\n",
      " 0 0 0 0 0 0 0 0 0 0 0 0 0 0 0 0 0 0 0 0 0 0 0 0 0 0 0 0 0 0 0 0 0 0 0 0 0\n",
      " 0 0 0 0 0 0 0 0 0 0 0 0 0 0 0 0 0 1 1 1 0 0 0 0 0 0 0 0 0 0]\n",
      "0.8925619834710744\n"
     ]
    },
    {
     "name": "stderr",
     "output_type": "stream",
     "text": [
      "C:\\Users\\m1551\\Anaconda3\\lib\\site-packages\\ipykernel_launcher.py:2: DataConversionWarning: A column-vector y was passed when a 1d array was expected. Please change the shape of y to (n_samples, ), for example using ravel().\n",
      "  \n"
     ]
    }
   ],
   "source": [
    "knn_classifier=KNeighborsClassifier(5)\n",
    "knn_classifier.fit(X_test,Y_test)\n",
    "y1_predict=knn_classifier.predict(X_test)\n",
    "print(y1_predict)\n",
    "from sklearn.metrics import accuracy_score\n",
    "print(accuracy_score(Y_test,y1_predict))"
   ]
  },
  {
   "cell_type": "code",
   "execution_count": 26,
   "metadata": {},
   "outputs": [
    {
     "name": "stdout",
     "output_type": "stream",
     "text": [
      "0.6666666666666666\n",
      "0.5714285714285714\n",
      "0.3018867924528302\n",
      "0.1\n",
      "0.41558441558441556\n",
      "0.1702127659574468\n"
     ]
    }
   ],
   "source": [
    "from sklearn.metrics import precision_score, recall_score, f1_score\n",
    "print(precision_score(Y_train,y_predict))\n",
    "print(precision_score(Y_test,y1_predict))\n",
    "print(recall_score(Y_train,y_predict))\n",
    "print(recall_score(Y_test,y1_predict))\n",
    "print(f1_score(Y_train,y_predict))\n",
    "print(f1_score(Y_test,y1_predict))"
   ]
  },
  {
   "cell_type": "code",
   "execution_count": 27,
   "metadata": {},
   "outputs": [
    {
     "name": "stdout",
     "output_type": "stream",
     "text": [
      "[[333   6]\n",
      " [ 23   1]]\n"
     ]
    }
   ],
   "source": [
    "from sklearn.metrics import confusion_matrix\n",
    "\n",
    "cm = confusion_matrix(y_predict, y1_predict)\n",
    "print(cm)"
   ]
  },
  {
   "cell_type": "code",
   "execution_count": 34,
   "metadata": {},
   "outputs": [
    {
     "name": "stdout",
     "output_type": "stream",
     "text": [
      "[[0.22535211 0.07407407 0.18181818 ... 0.         0.         0.        ]\n",
      " [0.14084507 0.03703704 0.18181818 ... 0.         0.         0.        ]\n",
      " [0.08450704 0.11111111 0.22727273 ... 0.         0.         0.        ]\n",
      " ...\n",
      " [0.28169014 0.07407407 0.5        ... 0.         0.         0.        ]\n",
      " [0.15492958 0.07407407 0.18181818 ... 0.         0.         0.        ]\n",
      " [0.36619718 0.         0.63636364 ... 0.         0.         0.        ]]\n"
     ]
    }
   ],
   "source": [
    "from sklearn.feature_selection import SelectKBest\n",
    "from sklearn.feature_selection import chi2\n",
    "\n",
    "#选择K个最好的特征，返回选择特征后的数据\n",
    "X_new = SelectKBest(chi2, k=25).fit_transform(X_train, Y_train)\n",
    "print(X_new)"
   ]
  },
  {
   "cell_type": "code",
   "execution_count": 37,
   "metadata": {},
   "outputs": [],
   "source": [
    "import matplotlib as mpl\n",
    "from sklearn.preprocessing import label_binarize\n",
    "from sklearn import metrics"
   ]
  },
  {
   "cell_type": "code",
   "execution_count": 38,
   "metadata": {},
   "outputs": [
    {
     "data": {
      "image/png": "[encoded data removed]",
      "text/plain": [
       "<Figure size 432x288 with 1 Axes>"
      ]
     },
     "metadata": {
      "needs_background": "light"
     },
     "output_type": "display_data"
    }
   ],
   "source": [
    "from sklearn.metrics import roc_auc_score\n",
    "from sklearn.metrics import roc_curve\n",
    "import matplotlib.pyplot as plt\n",
    "knn_roc_auc = roc_auc_score(Y_test, knn_classifier.predict(X_test))\n",
    "fpr, tpr, thresholds = roc_curve(Y_test, knn_classifier.predict_proba(X_test)[:,1])\n",
    "plt.figure()\n",
    "plt.plot(fpr, tpr, label='k-nearest neighbor (area = %0.2f)' % knn_roc_auc)\n",
    "plt.plot([0, 1], [0, 1],'r--')\n",
    "plt.xlim([0.0, 1.0])\n",
    "plt.ylim([0.0, 1.05])\n",
    "plt.xlabel('False Positive Rate')\n",
    "plt.ylabel('True Positive Rate')\n",
    "plt.title('Receiver operating characteristic')\n",
    "plt.legend(loc=\"lower right\")\n",
    "plt.savefig('kNN_ROC')\n",
    "plt.show()"
   ]
  },
  {
   "cell_type": "code",
   "execution_count": null,
   "metadata": {},
   "outputs": [],
   "source": []
  },
  {
   "cell_type": "code",
   "execution_count": null,
   "metadata": {},
   "outputs": [],
   "source": []
  }
 ],
 "metadata": {
  "kernelspec": {
   "display_name": "Python 3",
   "language": "python",
   "name": "python3"
  },
  "language_info": {
   "codemirror_mode": {
    "name": "ipython",
    "version": 3
   },
   "file_extension": ".py",
   "mimetype": "text/x-python",
   "name": "python",
   "nbconvert_exporter": "python",
   "pygments_lexer": "ipython3",
   "version": "3.7.4"
  }
 },
 "nbformat": 4,
 "nbformat_minor": 2
}
